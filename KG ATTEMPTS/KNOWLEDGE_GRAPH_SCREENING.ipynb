{
  "nbformat": 4,
  "nbformat_minor": 0,
  "metadata": {
    "colab": {
      "provenance": []
    },
    "kernelspec": {
      "name": "python3",
      "display_name": "Python 3"
    },
    "language_info": {
      "name": "python"
    }
  },
  "cells": [
    {
      "cell_type": "code",
      "execution_count": null,
      "metadata": {
        "id": "yd-xNjlTuBIS"
      },
      "outputs": [],
      "source": [
        "#Importing the necessary libraries\n",
        "import spacy\n",
        "import numpy as np\n",
        "import pandas as pd\n",
        "import matplotlib.pyplot as plt"
      ]
    },
    {
      "cell_type": "code",
      "source": [
        "#Importing the beautiful soup library\n",
        "import bs4\n",
        "import requests as rq"
      ],
      "metadata": {
        "id": "LDG6zpfruOjX"
      },
      "execution_count": null,
      "outputs": []
    },
    {
      "cell_type": "code",
      "source": [
        "#Installing the wikipedia and neuralcoref library\n",
        "! pip install wikipedia"
      ],
      "metadata": {
        "colab": {
          "base_uri": "https://localhost:8080/"
        },
        "id": "cgfl5UXwuSgx",
        "outputId": "06974525-d22d-424e-b5fc-df1db152d768"
      },
      "execution_count": null,
      "outputs": [
        {
          "output_type": "stream",
          "name": "stdout",
          "text": [
            "Looking in indexes: https://pypi.org/simple, https://us-python.pkg.dev/colab-wheels/public/simple/\n",
            "Requirement already satisfied: wikipedia in /usr/local/lib/python3.7/dist-packages (1.4.0)\n",
            "Requirement already satisfied: beautifulsoup4 in /usr/local/lib/python3.7/dist-packages (from wikipedia) (4.6.3)\n",
            "Requirement already satisfied: requests<3.0.0,>=2.0.0 in /usr/local/lib/python3.7/dist-packages (from wikipedia) (2.28.1)\n",
            "Requirement already satisfied: certifi>=2017.4.17 in /usr/local/lib/python3.7/dist-packages (from requests<3.0.0,>=2.0.0->wikipedia) (2022.6.15)\n",
            "Requirement already satisfied: idna<4,>=2.5 in /usr/local/lib/python3.7/dist-packages (from requests<3.0.0,>=2.0.0->wikipedia) (2.10)\n",
            "Requirement already satisfied: charset-normalizer<3,>=2 in /usr/local/lib/python3.7/dist-packages (from requests<3.0.0,>=2.0.0->wikipedia) (2.1.1)\n",
            "Requirement already satisfied: urllib3<1.27,>=1.21.1 in /usr/local/lib/python3.7/dist-packages (from requests<3.0.0,>=2.0.0->wikipedia) (1.26.12)\n"
          ]
        }
      ]
    },
    {
      "cell_type": "code",
      "source": [
        "#Importing the wikipedia library to scrape text from wikipedia\n",
        "import wikipedia as wk"
      ],
      "metadata": {
        "id": "WDwypCK5uWQD"
      },
      "execution_count": null,
      "outputs": []
    },
    {
      "cell_type": "code",
      "source": [
        "#Step-1: Automating Text extraction from the respective wikipedia pages - \n",
        "#Sub-step(i): Taking input of the wikipedia page name from user\n",
        "#Sub-step(ii): Re-organizing the text into paragraphs without headers\n",
        "#Sub-step(iii): Taking input of the word upto which the extract to be taken\n",
        "#Sub-step(iv): Writing the extract into a text file"
      ],
      "metadata": {
        "id": "h9_CdRPuugpK"
      },
      "execution_count": null,
      "outputs": []
    },
    {
      "cell_type": "code",
      "source": [
        "#(i)\n",
        "name=input(\"Enter the name of the wikipedia page:\")\n",
        "wiki=wk.page(name)\n",
        "unfil_text=wiki.content"
      ],
      "metadata": {
        "colab": {
          "base_uri": "https://localhost:8080/"
        },
        "id": "Lg78Z886vj7X",
        "outputId": "a11e7f25-aeb1-4296-c407-89626afe4c7e"
      },
      "execution_count": null,
      "outputs": [
        {
          "name": "stdout",
          "output_type": "stream",
          "text": [
            "Enter the name of the wikipedia page:paracetamol\n"
          ]
        }
      ]
    },
    {
      "cell_type": "code",
      "source": [
        "#(ii)\n",
        "#Importing Regular Expressions library\n",
        "import re\n",
        "text = re.sub(r'==.*?==+', '', unfil_text)\n",
        "text = text.replace('\\n', '')\n",
        "print(text)"
      ],
      "metadata": {
        "colab": {
          "base_uri": "https://localhost:8080/"
        },
        "id": "0mbHzkKHwhB9",
        "outputId": "1a325d2c-7313-4edd-b7ca-4cf1aacbf535"
      },
      "execution_count": null,
      "outputs": [
        {
          "output_type": "stream",
          "name": "stdout",
          "text": [
            "Paracetamol,  also known as acetaminophen, is a medication used to treat fever and mild to moderate pain. Common brand names include Tylenol and Panadol.At a standard dose, paracetamol only slightly decreases body temperature; it is inferior to ibuprofen in that respect, and the benefits of its use for fever are unclear. Paracetamol may relieve pain in acute mild migraine but only slightly in episodic tension headache. However, the aspirin/paracetamol/caffeine combination helps with both conditions where the pain is mild and is recommended as a first-line treatment for them. Paracetamol is effective for post-surgical pain, but it is inferior to ibuprofen. The paracetamol/ibuprofen combination provides further increase in potency and is superior to either drug alone. The pain relief paracetamol provides in osteoarthritis is small and clinically insignificant. The evidence in its favor for the use in low back pain, cancer pain, and neuropathic pain is insufficient.In the short term, common side effects of paracetamol are nausea and abdominal pain, and it seems to have tolerability similar to ibuprofen. Chronic consumption of paracetamol may result in a drop in hemoglobin level, indicating possible gastrointestinal bleeding, and abnormal liver function tests. There is a consistent association of increased mortality as well as cardiovascular (stroke, myocardial infarction), gastrointestinal (ulcers, bleeding) and renal adverse effects with taking higher dose of paracetamol. The drug may also increase the risk of developing hypertension. Elevated frequency of asthma and developmental and reproductive disorders is observed in the offspring of women with prolonged use of paracetamol during pregnancy, although whether paracetamol is the true cause of this increase is unclear. Some studies suggest that there is evidence for the association between paracetamol during pregnancy and autism spectrum disorder and attention deficit hyperactivity disorder, while making clear further research is required to establish any causal link, which has prompted some calls to limit its use in pregnancy to the lowest effective dosage for the shortest possible time.The recommended maximum daily dose for an adult is three to four grams. Higher doses may lead to toxicity, including liver failure. Paracetamol poisoning is the foremost cause of acute liver failure in the Western world, and accounts for most drug overdoses in the United States, the United Kingdom, Australia, and New Zealand.Paracetamol was first made in 1877 or possibly 1852. It is the most commonly used medication for pain and fever in both the United States and Europe. It is on the World Health Organization's List of Essential Medicines. Paracetamol is available as a generic medication, with brand names including Tylenol and Panadol among others. In 2019, it was the 145th most commonly prescribed medication in the United States, with more than 4 million prescriptions.Paracetamol is a drug of choice for reducing fever. However, there has been a lack of research on its antipyretic properties, particularly, in adults. The most recent review on paracetamol and management of fever in the general practice (2008) argued that its benefits are unclear. Additionally, when taken for the common cold paracetamol may relieve stuffed or runny nose but not other cold symptoms such as sore throat, malaise, sneezing and cough; this data, however, is of low quality.For patients in critical care, paracetamol decreased body temperature by only 0.2–0.3 °C more than control interventions; there was no difference in mortality. It did not change the outcome in febrile patients with stroke. The results are contradictory for paracetamol use in sepsis: higher mortality, lower mortality, and no change in mortality were all reported. Paracetamol offered no benefit in the treatment of dengue fever and was accompanied by a higher rate of liver enzyme elevation: a sign of a potential liver damage. Overall, there is no support for a routine administration of antipyretic drugs, including paracetamol, to hospitalized patients with fever and infection.The efficacy of paracetamol in children with fever is unclear. Paracetamol should not be used solely with the aim of reducing body temperature; however, it may be considered for children with fever who appear distressed. It does not prevent febrile seizures and should not be used for that purpose. It appears that 0.2 °C decrease of the body temperature in children after a standard dose of paracetamol is of questionable value, particularly in emergency situations. Based on this, some physicians advocate using higher doses that may decrease the temperature by as much as 0.7 °C. Meta-analyses showed that paracetamol is less effective than ibuprofen in children (marginally less effective, according to another analysis), including children younger than 2 years old, with equivalent safety. Exacerbation of asthma occurs with similar frequency for both medications. Giving paracetamol and ibuprofen together at the same time to children under 5 is not recommended, however doses may be alternated if required.Paracetamol is used for the relief of mild to moderate pain such as headache, muscle aches, minor arthritis pain, toothache as well as pain caused by cold, flu, sprains, and dysmenorrhea. It is recommended, in particular, for acute mild to moderate pain, since the evidence for the treatment of chronic pain is insufficient. Musculoskeletal pain The benefits of paracetamol in musculoskeletal conditions, such as osteoarthritis and backache, are uncertain.It appears to provide only small and not clinically important benefits in osteoarthritis. American College of Rheumatology and Arthritis Foundation guideline for the management of osteoarthritis notes that the effect size in clinical trials of paracetamol has been very small, which suggests that for most individuals it is ineffective. The guideline conditionally recommends paracetamol for short-term and episodic use to those who do not tolerate nonsteroidal anti-inflammatory drugs. For people taking it regularly, monitoring for liver toxicity is required. Essentially the same recommendation was issued by EULAR for hand osteoarthritis. Similarly, European algorithm ESCEO for the treatment of knee osteoarthritis recommends limiting the of use paracetamol to short-term rescue analgesia only.Paracetamol is ineffective for acute low back pain. No randomized  clinical trials evaluated its use for chronic or radicular back pain, and the evidence in favor of paracetamol is lacking. Headaches Paracetamol is effective for acute migraine: 39% of people experience pain relief at one hour compared with 20% in the control group. The aspirin/paracetamol/caffeine combination also \"has strong evidence of effectiveness and can be used as a first-line treatment for migraine.\" The German, Austrian, and Swiss headache societies and the German Society of Neurology recommend the combination as a \"highlighted\" one for self-medication of migraine, and paracetamol alone as a first choice.Paracetamol on its own only slightly alleviates episodic tension headache in those who have them frequently. However, the aspirin/paracetamol/caffeine combination is superior to both paracetamol alone and placebo and offers meaningful relief of tension headache: 2 hours after administering the medication, 29% of those who took the combination were pain free as compared with 21% on paracetamol and 18% on placebo. The German, Austrian, and Swiss headache societies and the German Society of Neurology recommend this combination as a \"highlighted\" one for self-medication of tension headache, with paracetamol/caffeine combination being a \"remedy of first choice\", and paracetamol a \"remedy of second choice\". Dental and other post-surgical pain Pain after a dental surgery provides a reliable model for the action of analgesics on other kinds of acute pain. For the relief of such pain, paracetamol is inferior to ibuprofen. Full therapeutic doses of non-steroidal anti-inflammatory drugs (NSAIDs) ibuprofen, naproxen or diclofenac are clearly more efficacious than the paracetamol/codeine combination which is frequently prescribed for dental pain. The combinations of paracetamol and NSAIDs ibuprofen or diclofenac are promising, possibly offering better pain control than either paracetamol or the NSAID alone. Additionally, the paracetamol/ibuprofen combination may be superior to paracetamol/codeine and ibuprofen/codeine combinations.A meta-analysis of general post-surgical pain, which included dental and other surgery, showed the paracetamol/codeine combination to be more effective than paracetamol alone: it provided significant pain relief to as much as 53% of the participants, while the placebo helped only 7%. Other pain Paracetamol fails to relieve procedural pain in newborn babies. For perineal pain postpartum paracetamol appears to be less effective than non-steroidal anti-inflammatory drugs (NSAIDs).The studies to support or refute the use of paracetamol for cancer pain and for neuropathic pain are lacking. There is limited evidence in favor of the use of the intravenous form of paracetamol for acute pain control in the emergency department. The combination of paracetamol with caffeine is superior to paracetamol alone for the treatment of acute pain.Paracetamol helps ductal closure in patent ductus arteriosus. It is as effective for this purpose as ibuprofen or indomethacin, but results in a less frequent gastrointestinal bleeding than ibuprofen.Gastrointestinal adverse effects such as nausea and abdominal pain are common, and their frequency is similar to that of ibuprofen. Increase in risk-taking behavior is possible. According to the US Food and Drug Administration, the drug may cause rare and possibly fatal skin reactions such as Stevens–Johnson syndrome and toxic epidermal necrolysis, although an analysis of the French Pharmacovigilance Database indicated no obvious risk of these reactions.In clinical trials for osteoarthritis, the number of participants reporting adverse effects were similar for those on paracetamol and on placebo. However, the abnormal liver function tests (meaning there was some inflammation or damage to the liver) were almost four times more likely in those on paracetamol, although the clinical importance of this effect is uncertain. After 13 weeks of paracetamol therapy for knee pain, a drop in hemoglobin level indicating gastrointestinal bleeding was observed in 20% of participants, this rate being similar to ibuprofen group.Due to the absence of controlled studies, most of the information about the long-term safety of paracetamol comes from observational studies. These indicate a consistent pattern of increased mortality as well as cardiovascular (stroke, myocardial infarction), gastrointestinal (ulcers, bleeding) and renal adverse effects with increased dose of paracetamol. Use of paracetamol is associated with 1.9 times higher risk of peptic ulcer. Those who take it regularly at a higher dose (more than 2–3 g daily) are at much higher risk (3.6–3.7 times) of gastrointestinal bleeding and other bleeding events. Meta-analyses suggest that paracetamol may increase the risk of kidney impairment by 23% and kidney cancer by 28%. Paracetamol is particularly dangerous to the liver in overdose, but even without overdose those who take this drug may develop acute liver failure requiring liver transplantation more frequently than the users of nonsteroidal anti-inflammatory drugs. Paracetamol slightly but significantly increases blood pressure and heart rate. The majority of observational studies suggests that, used chronically, it may increase the risk of developing hypertension, as confirmed in a prospective randomized confirmed trial. The risk is higher with the higher dose.The association between paracetamol use and asthma in children has been a matter of controversy. However, the most recent research suggests that there is no association, and that the frequency of asthma exacerbations in children after paracetamol is the same as after another frequently used pain killer ibuprofen.Paracetamol safety in pregnancy has been under increased scrutiny. There appears to be no link between paracetamol use in the first trimester and adverse pregnancy outcomes or birth defects. However, indications exist of a possible increase of asthma and developmental and reproductive disorders in the offspring of women with prolonged use of paracetamol during pregnancy.Paracetamol use by the mother during pregnancy is associated with an increased risk of childhood asthma, but so are the maternal infections for which paracetamol may be used, and separating these influences is difficult. Paracetamol, in a small scale meta analysis was also associated with 20–30% increase in autism spectrum disorder, attention deficit hyperactivity disorder, hyperactivity symptoms, and conduct disorder, with the association being lower in a meta analysis where a larger demographic was used, but it is unclear whether this is a causal relationship and there was potential bias in the findings. There is also an argument that the large number, consistency, and the robust designs of the studies provide a strong evidence in favor of paracetamol causing the increased risk of these neurodevelopmental disorders. In animal experiments, paracetamol disrupts fetal testosterone production, and several epidemiological studies linked cryptorchidism with mother's paracetamol use for more than two weeks in the second trimester. On the other hand, several studies did not find any association.The consensus recommendation appears to be to avoid prolonged use of paracetamol in pregnancy and use it only when necessary, at the lowest effective dosage and for the shortest time.Overdoses of paracetamol, that is, taking more than the recommended maximum daily dose of paracetamol for healthy adults of three or four grams, can cause potentially fatal liver damage.Paracetamol toxicity is the foremost cause of acute liver failure in the Western world, and accounts for most drug overdoses in the United States, the United Kingdom, Australia, and New Zealand. Paracetamol overdose results in more calls to poison control centers in the US than overdose of any other pharmacological substance. According to the FDA, in the United States, \"56,000 emergency room visits, 26,000 hospitalizations, and 458 deaths per year [were] related to acetaminophen-associated overdoses during the 1990s. Within these estimates, unintentional acetaminophen overdose accounted for nearly 25% of the emergency department visits, 10% of the hospitalizations, and 25% of the deaths.\"Overdoses are frequently related to high-dose recreational use of prescription opioids, as these opioids are most often combined with paracetamol. The overdose risk may be heightened by frequent consumption of alcohol.Untreated paracetamol overdose results in a lengthy, painful illness. Signs and symptoms of paracetamol toxicity may initially be absent or non-specific symptoms. The first symptoms of overdose usually begin several hours after ingestion, with nausea, vomiting, sweating, and pain as acute liver failure starts. People who take overdoses of paracetamol do not fall asleep or lose consciousness, although most people who attempt suicide with paracetamol wrongly believe that they will be rendered unconscious by the drug.Treatment is aimed at removing the paracetamol from the body and replenishing glutathione. Activated charcoal can be used to decrease absorption of paracetamol if the person comes to the hospital soon after the overdose. While the antidote, acetylcysteine (also called N-acetylcysteine or NAC), acts as a precursor for glutathione, helping the body regenerate enough to prevent or at least decrease the possible damage to the liver; a liver transplant is often required if damage to the liver becomes severe. NAC was usually given following a treatment nomogram (one for people with risk factors, and one for those without), but the use of the nomogram is no longer recommended as evidence to support the use of risk factors was poor and inconsistent, and many of the risk factors are imprecise and difficult to determine with sufficient certainty in clinical practice. Toxicity of paracetamol is due to its quinone metabolite NAPQI and NAC also helps in neutralizing it. Kidney failure is also a possible side effect.Prokinetic agents such as metoclopramide accelerate gastric emptying, shorten time (tmax) to paracetamol peak blood plasma concentration (Cmax), and increase Cmax. Medications slowing gastric emptying such as propantheline and morphine lengthen tmax and decrease Cmax. The interaction with morphine may result in patients failing to achieve the therapeutic concentration of paracetamol; the clinical significance of interactions with metoclopramide and propantheline is unclear.There have been suspicions that cytochrome inducers may enhance the toxic pathway of paracetamol metabolism to NAPQI (see Paracetamol#Pharmacokinetics). By and large, these suspicions have not been confirmed. Out of the inducers studied, the evidence of potentially increased liver toxicity in paracetamol overdose exists for phenobarbital, primidone, isoniazid, and possibly St John's wort. On the other hand, the anti-tuberculosis drug isoniazid cuts the formation of NAPQI by 70%.Ranitidine increased paracetamol area under the curve (AUC) 1.6-fold. AUC increases are also observed with nizatidine and cisapride. The effect is explained by these drugs inhibiting glucuronidation of paracetamol.Paracetamol raises plasma concentrations of ethinylestradiol by 22% by inhibiting its sulfation. Paracetamol increases INR during warfarin therapy and should be limited to no more than 2 g per week.Paracetamol appears to exert its effects through two mechanisms: the inhibition of cyclooxygenase and actions of its metabolite AM404.Supporting the first mechanism, pharmacologically and in its side effects, paracetamol is close to classical nonsteroidal anti-inflammatory drugs (NSAIDs) that act by inhibiting COX-1 and COX-2 enzymes and especially similar to  selective COX-2 inhibitors. Paracetamol inhibits prostaglandin synthesis by reducing the active form of COX-1 and COX-2 enzymes. This occurs only when the concentration of arachidonic acid and peroxides is low. Under these conditions, COX-2 is the predominant form of cyclooxygenase, which explains the apparent COX-2 selectivity of paracetamol. Under the conditions of inflammation, the concentration of peroxides is high, which counteracts the reducing effect of paracetamol. Accordingly, the anti-inflammatory action of paracetamol is slight. The anti-inflammatory action of paracetamol (via COX inhibition) has also been found to primarily target the central nervous system and not peripheral areas of the body, explaining the lack of side effects associated with conventional NSAIDs such as gastric bleeding.The second mechanism centers on the paracetamol metabolite AM404. This metabolite has been detected in the brains of animals and cerebrospinal fluid of humans taking paracetamol. Apparently, it is formed in the brain from another paracetamol metabolite 4-aminophenol by action of fatty acid amide hydrolase. AM404 is a weak agonist of cannabinoid receptors CB1 and CB2, an inhibitor of endocannabinoid transporter, and a potent activator of TRPV1 receptor. This and other research indicate that cannabinoid system and TRPV1 may play an important role in the analgesic effect of paracetamol.After being taken by mouth, paracetamol is rapidly absorbed from the small intestine, while absorption from the stomach is negligible. Thus, the rate of absorption depends on stomach emptying. Food slows the stomach emptying and absorption, but the total amount absorbed stays the same. In the same subjects, the peak plasma concentration of paracetamol was reached after 20 minutes when fasting versus 90 minutes when fed. High carbohydrate, but not high protein or high fat, food decreases paracetamol peak plasma concentration by four times. Even in the fasting state, the rate of absorption of paracetamol is variable and depends on the formulation, with maximum plasma concentration being reached after 20 minutes to 1.5 hours.Paracetamol's bioavailability is dose-dependent: it increases from 63% for 500 mg dose to 89% for 1000 mg dose. Its plasma terminal elimination half-life is 1.9–2.5 hours, and volume of distribution is roughly 50 L. Protein binding is negligible, except under the conditions of overdose, when it may reach 15–21%. The concentration in serum after a typical dose of paracetamol usually peaks below 30 μg/mL (200 μmol/L). After 4 hours, the concentration is usually less than 10 μg/mL (66 μmol/L).Paracetamol is metabolized primarily in the liver, mainly by glucuronidation and sulfation, and the products are then eliminated in the urine (see the Scheme on the right). Only 2–5% of the drug are excreted unchanged in the urine. Glucuronidation by UGT1A1 and UGT1A6 accounts for 50–70% of the drug metabolism. Additional 25–35% of paracetamol is converted to sulfate by sulfation enzymes SULT1A1, SULT1A3, and SULT1E1.A minor metabolic pathway (5-15%) of oxidation by cytochrome P450 enzymes, mainly by CYP2E1, forms a toxic metabolite known as NAPQI (N-acetyl-p-benzoquinone imine). NAPQI is responsible for the liver toxicity of paracetamol. At usual doses of paracetamol, NAPQI is quickly detoxified by conjugation with glutathione. The non-toxic conjugate APAP-GSH is taken up in the bile and further degraded to mercapturic and cysteine conjugates that are excreted in the urine. In overdose, glutathione is depleted by the large amount of formed NAPQI, and NAPQI binds to mitochondria proteins of the liver cells causing oxidative stress and toxicity.Yet another minor but important direction of metabolism is deacetylation of 1–2% of paracetamol to form p-aminophenol. p-Aminophenol is then converted in the brain by fatty acid amide hydrolase into AM404, a compound that may be partially responsible for the analgesic action of paracetamol. Classical methods The classical methods for the production of paracetamol involve the acetylation of 4-aminophenol with acetic anhydride as the last step. They differ in how 4-aminophenol is prepared. In one method, nitration of phenol with nitric acid affords 4-nitrophenol, which is reduced to 4-aminophenol by hydrogenation over Raney nickel. In another method, nitrobenzene is reduced electrolytically giving 4-aminophenol directly. Additionally, 4-aminophenol can be selectively reduced by Tin(II) Chloride in absolute ethanol or ethyl acetate to produce a 91% yield of 4-aminophenol.  Celanese synthesis An alternative industrial synthesis developed at Celanese involves direct acylation of phenol with acetic anhydride in the presence of hydrogen fluoride, conversion of the resulting ketone to a ketoxime with hydroxylamine, followed by the acid-catalyzed Beckmann rearrangement.4-Aminophenol may be obtained by the amide hydrolysis of paracetamol. This reaction is also used to determine paracetamol in urine samples: After hydrolysis with hydrochloric acid, 4-aminophenol reacts in ammonia solution with a phenol derivate, e.g. salicylic acid, to form an indophenol dye under oxidization by air.Acetanilide was the first aniline derivative serendipitously found to possess analgesic as well as antipyretic properties, and was quickly introduced into medical practice under the name of Antifebrin by Cahn & Hepp in 1886. But its unacceptable toxic effects—the most alarming being cyanosis due to methemoglobinemia, an increase of hemoglobin in its ferric [Fe3+] state, called methemoglobin, which cannot bind oxygen, and thus decreases overall carriage of oxygen to tissue—prompted the search for less toxic aniline derivatives. Some reports state that Cahn & Hepp or a French chemist called Charles Gerhardt first synthesized paracetamol in 1852.Harmon Northrop Morse synthesized paracetamol at Johns Hopkins University via the reduction of p-nitrophenol with tin in glacial acetic acid in 1877, but it was not until 1887 that clinical pharmacologist Joseph von Mering tried paracetamol on humans. In 1893, von Mering published a paper reporting on the clinical results of paracetamol with phenacetin, another aniline derivative. Von Mering claimed that, unlike phenacetin, paracetamol had a slight tendency to produce methemoglobinemia. Paracetamol was then quickly discarded in favor of phenacetin. The sales of phenacetin established Bayer as a leading pharmaceutical company.Von Mering's claims remained essentially unchallenged for half a century, until two teams of researchers from the United States analyzed the metabolism of acetanilide and phenacetin. In 1947, David Lester and Leon Greenberg found strong evidence that paracetamol was a major metabolite of acetanilide in human blood, and in a subsequent study they reported that large doses of paracetamol given to albino rats did not cause methemoglobinemia. In 1948, Bernard Brodie, Julius Axelrod and Frederick Flinn confirmed that paracetamol was the major metabolite of acetanilide in humans, and established that it was just as efficacious an analgesic as its precursor. They also suggested that methemoglobinemia is produced in humans mainly by another metabolite, phenylhydroxylamine. A follow-up paper by Brodie and Axelrod in 1949 established that phenacetin was also metabolized to paracetamol. This led to a \"rediscovery\" of paracetamol.Paracetamol was first marketed in the United States in 1950 under the name Triagesic, a combination of paracetamol, aspirin, and caffeine. Reports in 1951 of three users stricken with the blood disease agranulocytosis led to its removal from the marketplace, and it took several years until it became clear that the disease was unconnected. The following year, 1952, paracetamol returned to the US market as a prescription drug. In the United Kingdom, marketing of paracetamol began in 1956 by Sterling-Winthrop Co. as Panadol, available only by prescription, and promoted as preferable to aspirin since it was safe for children and people with ulcers. In 1963, paracetamol was added to the British Pharmacopoeia, and has gained popularity since then as an analgesic agent with few side-effects and little interaction with other pharmaceutical agents.Concerns about paracetamol's safety delayed its widespread acceptance until the 1970s, but in the 1980s paracetamol sales exceeded those of aspirin in many countries, including the United Kingdom. This was accompanied by the commercial demise of phenacetin, blamed as the cause of analgesic nephropathy and hematological toxicity. Available in the US without a prescription since 1955 (1960, according to another source) paracetamol has become a common household drug. In 1988, Sterling Winthrop was acquired by Eastman Kodak which sold the over the counter drug rights to SmithKline Beecham in 1994.In June 2009, an FDA advisory committee recommended that new restrictions be placed on paracetamol use in the United States to help protect people from the potential toxic effects. The maximum single adult dosage would be decreased from 1000 mg to 650 mg, while combinations of paracetamol and other products would be prohibited. Committee members were particularly concerned by the fact that the then-present maximum dosages of paracetamol had been shown to produce alterations in liver function.In January 2011, the FDA asked manufacturers of prescription combination products containing paracetamol to limit its amount to no more than 325 mg per tablet or capsule and began requiring manufacturers to update the labels of all prescription combination paracetamol products to warn of the potential risk of severe liver damage. Manufacturers had three years to limit the amount of paracetamol in their prescription drug products to 325 mg per dosage unit.In November 2011, the Medicines and Healthcare products Regulatory Agency revised UK dosing of liquid paracetamol for children.In September 2013, \"Use Only as Directed\", an episode of the radio program This American Life highlighted deaths from paracetamol overdose. This report was followed by two reports by ProPublica alleging that the \"FDA has long been aware of studies showing the risks of acetaminophen. So has the maker of Tylenol, McNeil Consumer Healthcare, a division of Johnson & Johnson\" and \"McNeil, the maker of Tylenol, ... has repeatedly opposed safety warnings, dosage restrictions and other measures meant to safeguard users of the drug.\"During the COVID-19 pandemic it was considered by some in the scientific community that it was an effective analgesic medication to treat symptoms of COVID-19, but this was found to be unsubstantiated.Paracetamol is the Australian Approved Name and British Approved Name as well as the international nonproprietary name used by the WHO and in many other countries; acetaminophen is the United States Adopted Name and Japanese Accepted Name and also the name generally used in Canada, Venezuela, Colombia, and Iran. Both paracetamol and acetaminophen are contractions of para-acetylaminophenol, a chemical name for the compound. The initialism APAP used by dispensing pharmacists in the United States comes from the alternative chemical name [N-]acetyl-para-aminophenol.Paracetamol is available in oral, suppository, and intravenous forms. Intravenous paracetamol is sold under the brand name Ofirmev in the United States.In some formulations, paracetamol is combined with the opiate codeine, sometimes referred to as co-codamol (BAN) and Panadeine in Australia. In the US, this combination is available only by prescription. As of 1 February 2018, medications containing codeine also became prescription-only in Australia. Paracetamol is also combined with other opioids such as dihydrocodeine, referred to as co-dydramol (British Approved Name (BAN)), oxycodone or hydrocodone. Another very commonly used analgesic combination includes paracetamol in combination with propoxyphene napsylate. A combination of paracetamol, codeine, and the doxylamine succinate is also available.Paracetamol is sometimes combined with phenylephrine hydrochloride. Sometimes a third active ingredient, such as ascorbic acid, caffeine, chlorpheniramine maleate, or guaifenesin is added to this combination.Paracetamol is extremely toxic to cats, which lack the necessary UGT1A6 enzyme to detoxify it. Initial symptoms include vomiting, salivation, and discoloration of the tongue and gums. Unlike an overdose in humans, liver damage is rarely the cause of death; instead, methemoglobin formation and the production of Heinz bodies in red blood cells inhibit oxygen transport by the blood, causing asphyxiation (methemoglobinemia and hemolytic anemia). Treatment with N-acetylcysteine is recommended.Paracetamol has been reported to be as effective as aspirin in the treatment of musculoskeletal pain in dogs. A paracetamol-codeine product (brand name Pardale-V) licensed for use in dogs is available for purchase under supervision of a vet, pharmacist or other qualified person. It should be administered to dogs only on veterinary advice and with extreme caution.The main effect of toxicity in dogs is liver damage, and GI ulceration has been reported. N-acetylcysteine treatment is efficacious in dogs when administered within two hours of paracetamol ingestion.Paracetamol is lethal to snakes, and has been suggested as a chemical control program for the invasive brown tree snake (Boiga irregularis) in Guam. Doses of 80 mg are inserted into dead mice that are scattered by helicopter, as lethal bait to be consumed by the snakes.\"Acetaminophen\". Drug Information Portal. U.S. National Library of Medicine.\"Acetaminophen: Avoiding Liver Injury\". Food and Drug Administration (FDA). 24 June 2009.\"Evidence for the efficacy of pain medications\" (PDF). National Safety Council (NSC). 26 August 2020.\n"
          ]
        }
      ]
    },
    {
      "cell_type": "code",
      "source": [
        "#(iii)\n",
        "extract_word=input(\"Enter word/digit/phrase upto which extract is to be taken:\")\n",
        "num=text.find(extract_word)\n",
        "l=len(extract_word)\n",
        "b=input('Enter name of file with extension:')\n",
        "with open(b,'w') as fil:\n",
        "  fil.write(text[:(num+l+1)])"
      ],
      "metadata": {
        "colab": {
          "base_uri": "https://localhost:8080/"
        },
        "id": "xNblWo_HwxxD",
        "outputId": "89f282f4-158f-4236-a152-a2e5a8d89a59"
      },
      "execution_count": null,
      "outputs": [
        {
          "name": "stdout",
          "output_type": "stream",
          "text": [
            "Enter word/digit/phrase upto which extract is to be taken:prescriptions\n",
            "Enter name of file with extension:new.txt\n"
          ]
        }
      ]
    },
    {
      "cell_type": "code",
      "source": [
        "final_text=text[:num+l+1]"
      ],
      "metadata": {
        "id": "m9pGxMkJdYeT"
      },
      "execution_count": null,
      "outputs": []
    },
    {
      "cell_type": "code",
      "source": [
        "#Step-2: Coreference Resolution: Connecting all the pronouns to referred entities - \n",
        "#Sub-step(i): Utilising the allen nlp public models to relate all pronouns to the root word\n",
        "#Sub-step(ii): Obtaining the spacy tokens for the words\n",
        "#Sub-step(iii): Taking input of the word upto which the extract to be taken"
      ],
      "metadata": {
        "id": "EAWXK-gvx1rb"
      },
      "execution_count": null,
      "outputs": []
    },
    {
      "cell_type": "code",
      "source": [
        "from allennlp.predictors.predictor import Predictor\n",
        "\n",
        "model_url = \"https://storage.googleapis.com/allennlp-public-models/coref-spanbert-large-2020.02.27.tar.gz\"\n",
        "predictor = Predictor.from_path(model_url)\n",
        "\n",
        "\n",
        "prediction = predictor.predict(document=final_text)  # get prediction\n",
        "print(\"indices-\")\n",
        "for cluster in prediction['clusters']:\n",
        "    print(cluster)  # list the indices of spaCy tokens)\n",
        "\n",
        "print('\\n\\n')\n",
        "\n",
        "print('Coref resolved: ',predictor.coref_resolved(final_text))"
      ],
      "metadata": {
        "id": "hLkGxCWjpaIm"
      },
      "execution_count": null,
      "outputs": []
    },
    {
      "cell_type": "code",
      "source": [
        "d=input('Enter name of file with extension:')\n",
        "with open(d,'w') as f:\n",
        "  f.write(predictor.coref_resolved(final_text))"
      ],
      "metadata": {
        "id": "cbUI8qW6rsq9"
      },
      "execution_count": null,
      "outputs": []
    },
    {
      "cell_type": "code",
      "source": [
        "#Step-3: Entity Linking: Extracting all mentioned entities and connecting them to target knowledge base - "
      ],
      "metadata": {
        "id": "8tagUhLIsRE5"
      },
      "execution_count": null,
      "outputs": []
    },
    {
      "cell_type": "code",
      "source": [
        "import urllib\n",
        "from string import punctuation\n",
        "import nltk"
      ],
      "metadata": {
        "id": "nzhLy7Cw4RtC"
      },
      "execution_count": null,
      "outputs": []
    },
    {
      "cell_type": "code",
      "source": [
        "import json"
      ],
      "metadata": {
        "id": "lU3klnXgQj17"
      },
      "execution_count": null,
      "outputs": []
    },
    {
      "cell_type": "code",
      "source": [
        "def wikilink(text, lang=\"en\", threshold=0.8):\n",
        "    \"\"\"Function that fetches entity linking results from wikifier.com API\"\"\"\n",
        "    data = urllib.parse.urlencode([\n",
        "        (\"text\", text), (\"lang\", lang),\n",
        "        (\"userKey\", \"tgbdmkpmkluegqfbawcwjywieevmza\"),\n",
        "        (\"pageRankSqThreshold\", \"%g\" %\n",
        "         threshold), (\"applyPageRankSqThreshold\", \"true\"),\n",
        "        (\"nTopDfValuesToIgnore\", \"100\"), (\"nWordsToIgnoreFromList\", \"100\"),\n",
        "        (\"wikiDataClasses\", \"true\"), (\"wikiDataClassIds\", \"false\"),\n",
        "        (\"support\", \"true\"), (\"ranges\", \"false\"), (\"minLinkFrequency\", \"2\"),\n",
        "        (\"includeCosines\", \"false\"), (\"maxMentionEntropy\", \"3\")\n",
        "    ])\n",
        "    url = \"http://www.wikifier.org/annotate-article\"\n",
        "    req = urllib.request.Request(url, data=data.encode(\"utf8\"), method=\"POST\")\n",
        "    with urllib.request.urlopen(req, timeout=60) as f:\n",
        "        response = f.read()\n",
        "        response = json.loads(response.decode(\"utf8\"))\n",
        "    results = list()\n",
        "    for annotation in response[\"annotations\"]:\n",
        "        results.append({'title': annotation['title'], 'wikiId': annotation['wikiDataItemId'],'characters': [(el['chFrom'], el['chTo']) for el in annotation['support']]})\n",
        "    return results"
      ],
      "metadata": {
        "id": "C1Ga4jttQXwQ"
      },
      "execution_count": null,
      "outputs": []
    },
    {
      "cell_type": "code",
      "source": [
        "with open('newfile.txt','r') as file1:\n",
        "  filtered_text=file1.read().rstrip()"
      ],
      "metadata": {
        "id": "IjgYtdwWTg16"
      },
      "execution_count": null,
      "outputs": []
    },
    {
      "cell_type": "code",
      "source": [
        "print(filtered_text)"
      ],
      "metadata": {
        "colab": {
          "base_uri": "https://localhost:8080/"
        },
        "id": "LyXMrW_yTxhy",
        "outputId": "4741bf8f-99a4-4bec-b76d-0ed17c4fe7f5"
      },
      "execution_count": null,
      "outputs": [
        {
          "output_type": "stream",
          "name": "stdout",
          "text": [
            "Paracetamol,  also known as acetaminophen, is a medication used to treat fever and mild to moderate pain. Common brand names include Tylenol and Panadol.At a standard dose, paracetamol only slightly decreases body temperature; it is inferior to ibuprofen in that respect, and the benefits of its use for fever are unclear. Paracetamol may relieve pain in acute mild migraine but only slightly in episodic tension headache. However, the aspirin/paracetamol/caffeine combination helps with both conditions where the pain is mild and is recommended as a first-line treatment for them. Paracetamol is effective for post-surgical pain, but it is inferior to ibuprofen. The paracetamol/ibuprofen combination provides further increase in potency and is superior to either drug alone. The pain relief paracetamol provides in osteoarthritis is small and clinically insignificant. The evidence in its favor for the use in low back pain, cancer pain, and neuropathic pain is insufficient.In the short term, common side effects of paracetamol are nausea and abdominal pain, and it seems to have tolerability similar to ibuprofen. Chronic consumption of paracetamol may result in a drop in hemoglobin level, indicating possible gastrointestinal bleeding, and abnormal liver function tests. There is a consistent association of increased mortality as well as cardiovascular (stroke, myocardial infarction), gastrointestinal (ulcers, bleeding) and renal adverse effects with taking higher dose of paracetamol. The drug may also increase the risk of developing hypertension. Elevated frequency of asthma and developmental and reproductive disorders is observed in the offspring of women with prolonged use of paracetamol during pregnancy, although whether paracetamol is the true cause of this increase is unclear. Some studies suggest that there is evidence for the association between paracetamol during pregnancy and autism spectrum disorder and attention deficit hyperactivity disorder, while making clear further research is required to establish any causal link, which has prompted some calls to limit its use in pregnancy to the lowest effective dosage for the shortest possible time.The recommended maximum daily dose for an adult is three to four grams. Higher doses may lead to toxicity, including liver failure. Paracetamol poisoning is the foremost cause of acute liver failure in the Western world, and accounts for most drug overdoses in the United States, the United Kingdom, Australia, and New Zealand.Paracetamol was first made in 1877 or possibly 1852. It is the most commonly used medication for pain and fever in both the United States and Europe. It is on the World Health Organization's List of Essential Medicines. Paracetamol is available as a generic medication, with brand names including Tylenol and Panadol among others. In 2019, it was the 145th most commonly prescribed medication in the United States, with more than 4 million prescriptions\n"
          ]
        }
      ]
    },
    {
      "cell_type": "code",
      "source": [
        "wikilink(filtered_text,threshold=1)\n"
      ],
      "metadata": {
        "colab": {
          "base_uri": "https://localhost:8080/"
        },
        "id": "UjchY0BsTZFv",
        "outputId": "64aee88e-f956-4017-c0f5-04598d48b11b"
      },
      "execution_count": null,
      "outputs": [
        {
          "output_type": "execute_result",
          "data": {
            "text/plain": [
              "[{'title': 'Paracetamol',\n",
              "  'wikiId': 'Q57055',\n",
              "  'characters': [(0, 10),\n",
              "   (28, 40),\n",
              "   (173, 183),\n",
              "   (323, 333),\n",
              "   (444, 454),\n",
              "   (582, 592),\n",
              "   (668, 678),\n",
              "   (793, 803),\n",
              "   (1019, 1029),\n",
              "   (1141, 1151),\n",
              "   (1482, 1492),\n",
              "   (1693, 1703),\n",
              "   (1740, 1750),\n",
              "   (1871, 1881),\n",
              "   (2307, 2317),\n",
              "   (2722, 2732),\n",
              "   (2811, 2817)]},\n",
              " {'title': 'Paracetamol poisoning',\n",
              "  'wikiId': 'Q2572879',\n",
              "  'characters': [(2307, 2327)]},\n",
              " {'title': 'Medication',\n",
              "  'wikiId': 'Q12140',\n",
              "  'characters': [(48, 57),\n",
              "   (765, 768),\n",
              "   (1499, 1502),\n",
              "   (2418, 2421),\n",
              "   (2584, 2593),\n",
              "   (2711, 2719),\n",
              "   (2760, 2769),\n",
              "   (2884, 2893)]},\n",
              " {'title': 'Prescription drug',\n",
              "  'wikiId': 'Q1643563',\n",
              "  'characters': [(2873, 2882), (2942, 2954)]},\n",
              " {'title': 'Used car',\n",
              "  'wikiId': 'Q1137287',\n",
              "  'characters': [(59, 62), (2579, 2582)]},\n",
              " {'title': 'English markers of habitual aspect',\n",
              "  'wikiId': 'Q20991062',\n",
              "  'characters': [(59, 65)]},\n",
              " {'title': 'Therapy',\n",
              "  'wikiId': 'Q179661',\n",
              "  'characters': [(67, 71), (551, 560), (551, 570)]},\n",
              " {'title': 'Fever',\n",
              "  'wikiId': 'Q38933',\n",
              "  'characters': [(73, 77), (209, 224), (304, 308), (2608, 2612)]},\n",
              " {'title': 'Mild ale',\n",
              "  'wikiId': 'Q2318025',\n",
              "  'characters': [(83, 86), (361, 364), (522, 525)]},\n",
              " {'title': 'Tempo', 'wikiId': 'Q189214', 'characters': [(91, 98)]},\n",
              " {'title': 'Pain',\n",
              "  'wikiId': 'Q81938',\n",
              "  'characters': [(100, 103),\n",
              "   (347, 350),\n",
              "   (355, 359),\n",
              "   (514, 517),\n",
              "   (625, 628),\n",
              "   (781, 784),\n",
              "   (921, 924),\n",
              "   (934, 937),\n",
              "   (956, 959),\n",
              "   (1056, 1059),\n",
              "   (2354, 2358),\n",
              "   (2599, 2602)]},\n",
              " {'title': 'Abdominal pain',\n",
              "  'wikiId': 'Q183425',\n",
              "  'characters': [(1046, 1054), (1046, 1059)]},\n",
              " {'title': 'Analgesic',\n",
              "  'wikiId': 'Q173235',\n",
              "  'characters': [(339, 350), (781, 791)]},\n",
              " {'title': 'Neuropathic pain',\n",
              "  'wikiId': 'Q2798704',\n",
              "  'characters': [(944, 954), (944, 959)]},\n",
              " {'title': 'Cancer pain', 'wikiId': 'Q3712728', 'characters': [(927, 937)]},\n",
              " {'title': 'Back pain',\n",
              "  'wikiId': 'Q5781808',\n",
              "  'characters': [(916, 919), (916, 924)]},\n",
              " {'title': 'Common law', 'wikiId': 'Q30216', 'characters': [(106, 111)]},\n",
              " {'title': 'Brand',\n",
              "  'wikiId': 'Q431289',\n",
              "  'characters': [(113, 117), (113, 123), (2777, 2781), (2777, 2787)]},\n",
              " {'title': 'Binomial nomenclature',\n",
              "  'wikiId': 'Q36642',\n",
              "  'characters': [(119, 123), (2783, 2787)]},\n",
              " {'title': 'Include directive',\n",
              "  'wikiId': 'Q877809',\n",
              "  'characters': [(125, 131)]},\n",
              " {'title': 'Tylenol (brand)',\n",
              "  'wikiId': 'Q3245302',\n",
              "  'characters': [(133, 139), (2799, 2805)]},\n",
              " {'title': 'Dose (biochemistry)',\n",
              "  'wikiId': 'Q3037304',\n",
              "  'characters': [(2137, 2142), (2254, 2258)]},\n",
              " {'title': 'Ionizing radiation',\n",
              "  'wikiId': 'Q186161',\n",
              "  'characters': [(167, 170), (1474, 1477), (2205, 2208)]},\n",
              " {'title': 'Monotypic taxon',\n",
              "  'wikiId': 'Q310890',\n",
              "  'characters': [(185, 188), (379, 382)]},\n",
              " {'title': 'Decrease (knitting)',\n",
              "  'wikiId': 'Q5249659',\n",
              "  'characters': [(199, 207)]},\n",
              " {'title': 'Stomach', 'wikiId': 'Q1029907', 'characters': [(209, 212)]},\n",
              " {'title': 'Thermoregulation',\n",
              "  'wikiId': 'Q190259',\n",
              "  'characters': [(214, 224)]},\n",
              " {'title': 'Ibuprofen',\n",
              "  'wikiId': 'Q186969',\n",
              "  'characters': [(245, 253), (653, 661), (680, 688), (1107, 1115)]},\n",
              " {'title': 'Respect', 'wikiId': 'Q28510', 'characters': [(263, 269)]},\n",
              " {'title': 'Economics', 'wikiId': 'Q8134', 'characters': [(280, 287)]},\n",
              " {'title': 'Species inquirenda',\n",
              "  'wikiId': 'Q3766304',\n",
              "  'characters': [(314, 320), (1790, 1796)]},\n",
              " {'title': 'Crataegus monogyna',\n",
              "  'wikiId': 'Q161511',\n",
              "  'characters': [(335, 337), (1153, 1155), (1504, 1506), (2260, 2262)]},\n",
              " {'title': 'Relief', 'wikiId': 'Q245117', 'characters': [(339, 345)]},\n",
              " {'title': 'Migraine', 'wikiId': 'Q133823', 'characters': [(366, 373)]},\n",
              " {'title': 'Episodic memory', 'wikiId': 'Q18646', 'characters': [(396, 403)]},\n",
              " {'title': 'Stress (biology)',\n",
              "  'wikiId': 'Q123414',\n",
              "  'characters': [(405, 411)]},\n",
              " {'title': 'Tension headache',\n",
              "  'wikiId': 'Q1338684',\n",
              "  'characters': [(405, 420)]},\n",
              " {'title': 'Headache', 'wikiId': 'Q86', 'characters': [(413, 420)]},\n",
              " {'title': 'However (song)', 'wikiId': 'Q1073891', 'characters': [(423, 429)]},\n",
              " {'title': 'Aspirin', 'wikiId': 'Q18216', 'characters': [(436, 442)]},\n",
              " {'title': 'Aspirin/paracetamol/caffeine',\n",
              "  'wikiId': 'Q16834664',\n",
              "  'characters': [(436, 463)]},\n",
              " {'title': 'Caffeine', 'wikiId': 'Q60235', 'characters': [(456, 463)]},\n",
              " {'title': 'World War I',\n",
              "  'wikiId': 'Q361',\n",
              "  'characters': [(488, 491), (2617, 2620)]},\n",
              " {'title': 'Disease',\n",
              "  'wikiId': 'Q12136',\n",
              "  'characters': [(493, 502), (1623, 1631), (1920, 1927), (1965, 1972)]},\n",
              " {'title': 'Mustahabb',\n",
              "  'wikiId': 'Q1548842',\n",
              "  'characters': [(534, 544), (2179, 2189)]},\n",
              " {'title': 'Singular they', 'wikiId': 'Q3437264', 'characters': [(576, 579)]},\n",
              " {'title': 'Condé Nast', 'wikiId': 'Q605401', 'characters': [(576, 580)]},\n",
              " {'title': 'Efficacy',\n",
              "  'wikiId': 'Q2585693',\n",
              "  'characters': [(597, 605), (2127, 2135)]},\n",
              " {'title': 'Perioperative medicine',\n",
              "  'wikiId': 'Q7168671',\n",
              "  'characters': [(611, 623)]},\n",
              " {'title': 'Further education',\n",
              "  'wikiId': 'Q765192',\n",
              "  'characters': [(711, 717), (1994, 2000)]},\n",
              " {'title': 'Monotonic function',\n",
              "  'wikiId': 'Q194404',\n",
              "  'characters': [(719, 726), (1513, 1520), (1778, 1785)]},\n",
              " {'title': 'Erectile dysfunction',\n",
              "  'wikiId': 'Q184674',\n",
              "  'characters': [(731, 737)]},\n",
              " {'title': 'Topography', 'wikiId': 'Q134435', 'characters': [(786, 791)]},\n",
              " {'title': 'Osteoarthritis', 'wikiId': 'Q62736', 'characters': [(817, 830)]},\n",
              " {'title': 'Medicine', 'wikiId': 'Q11190', 'characters': [(845, 854)]},\n",
              " {'title': 'Clinical trial', 'wikiId': 'Q30612', 'characters': [(1804, 1810)]},\n",
              " {'title': 'Clinical significance',\n",
              "  'wikiId': 'Q5133848',\n",
              "  'characters': [(845, 868)]},\n",
              " {'title': 'Statistical significance',\n",
              "  'wikiId': 'Q425265',\n",
              "  'characters': [(856, 868)]},\n",
              " {'title': 'Evidence-based medicine',\n",
              "  'wikiId': 'Q691640',\n",
              "  'characters': [(875, 882), (1834, 1841)]},\n",
              " {'title': 'Scientific method',\n",
              "  'wikiId': 'Q46857',\n",
              "  'characters': [(2002, 2009)]},\n",
              " {'title': 'Hypotension', 'wikiId': 'Q275419', 'characters': [(912, 914)]},\n",
              " {'title': 'Low back pain', 'wikiId': 'Q852163', 'characters': [(912, 924)]},\n",
              " {'title': 'Cancer', 'wikiId': 'Q12078', 'characters': [(927, 932)]},\n",
              " {'title': 'Short story', 'wikiId': 'Q49084', 'characters': [(984, 988)]},\n",
              " {'title': 'Short-term effects of alcohol consumption',\n",
              "  'wikiId': 'Q16879474',\n",
              "  'characters': [(984, 993)]},\n",
              " {'title': 'A-side and B-side',\n",
              "  'wikiId': 'Q215233',\n",
              "  'characters': [(1003, 1006)]},\n",
              " {'title': 'Adverse effect',\n",
              "  'wikiId': 'Q2047938',\n",
              "  'characters': [(1003, 1014), (1439, 1453)]},\n",
              " {'title': 'Causality',\n",
              "  'wikiId': 'Q179289',\n",
              "  'characters': [(1008, 1014), (1447, 1453), (2040, 2045), (2040, 2050)]},\n",
              " {'title': 'Nausea', 'wikiId': 'Q186889', 'characters': [(1035, 1040)]},\n",
              " {'title': 'Tolerability', 'wikiId': 'Q7814214', 'characters': [(1083, 1094)]},\n",
              " {'title': 'Sexual dimorphism',\n",
              "  'wikiId': 'Q181497',\n",
              "  'characters': [(1096, 1102)]},\n",
              " {'title': 'Chronic condition',\n",
              "  'wikiId': 'Q383126',\n",
              "  'characters': [(1118, 1124)]},\n",
              " {'title': 'Tuberculosis', 'wikiId': 'Q12204', 'characters': [(1126, 1136)]},\n",
              " {'title': 'Result', 'wikiId': 'Q2995644', 'characters': [(1157, 1162)]},\n",
              " {'title': 'Drop (liquid)', 'wikiId': 'Q185789', 'characters': [(1169, 1172)]},\n",
              " {'title': 'Hemoglobin', 'wikiId': 'Q43041', 'characters': [(1177, 1186)]},\n",
              " {'title': 'Amplitude', 'wikiId': 'Q159190', 'characters': [(1188, 1192)]},\n",
              " {'title': 'Logical possibility',\n",
              "  'wikiId': 'Q781546',\n",
              "  'characters': [(1206, 1213), (2161, 2168)]},\n",
              " {'title': 'Gastrointestinal tract',\n",
              "  'wikiId': 'Q11829360',\n",
              "  'characters': [(1215, 1230), (1393, 1408)]},\n",
              " {'title': 'Gastrointestinal bleeding',\n",
              "  'wikiId': 'Q1495657',\n",
              "  'characters': [(1215, 1239), (1232, 1239), (1419, 1426)]},\n",
              " {'title': 'Dysplasia', 'wikiId': 'Q1128996', 'characters': [(1246, 1253)]},\n",
              " {'title': 'Elevated transaminases',\n",
              "  'wikiId': 'Q2448873',\n",
              "  'characters': [(1246, 1274)]},\n",
              " {'title': 'Liver',\n",
              "  'wikiId': 'Q9368',\n",
              "  'characters': [(1255, 1259), (1255, 1268), (2292, 2296), (2360, 2364)]},\n",
              " {'title': 'Liver failure',\n",
              "  'wikiId': 'Q970208',\n",
              "  'characters': [(2292, 2304), (2354, 2372), (2360, 2372)]},\n",
              " {'title': 'Liver function tests',\n",
              "  'wikiId': 'Q1359801',\n",
              "  'characters': [(1255, 1274)]},\n",
              " {'title': 'Physiology', 'wikiId': 'Q521', 'characters': [(1261, 1268)]},\n",
              " {'title': 'There (virtual world)',\n",
              "  'wikiId': 'Q3178880',\n",
              "  'characters': [(1277, 1281)]},\n",
              " {'title': 'Consistency', 'wikiId': 'Q1319773', 'characters': [(1288, 1297)]},\n",
              " {'title': 'Tachycardia', 'wikiId': 'Q209583', 'characters': [(1314, 1322)]},\n",
              " {'title': 'Mortality rate', 'wikiId': 'Q58702', 'characters': [(1324, 1332)]},\n",
              " {'title': 'Oil well', 'wikiId': 'Q587682', 'characters': [(1337, 1340)]},\n",
              " {'title': 'Cardiovascular disease',\n",
              "  'wikiId': 'Q389735',\n",
              "  'characters': [(1345, 1358)]},\n",
              " {'title': 'Myocardial infarction',\n",
              "  'wikiId': 'Q12152',\n",
              "  'characters': [(1361, 1366), (1369, 1389), (1380, 1389)]},\n",
              " {'title': 'Cardiac muscle',\n",
              "  'wikiId': 'Q10334846',\n",
              "  'characters': [(1369, 1378)]},\n",
              " {'title': 'Peptic ulcer disease',\n",
              "  'wikiId': 'Q172941',\n",
              "  'characters': [(1411, 1416)]},\n",
              " {'title': 'Kidney', 'wikiId': 'Q9377', 'characters': [(1433, 1437)]},\n",
              " {'title': 'Kidney failure',\n",
              "  'wikiId': 'Q476921',\n",
              "  'characters': [(2298, 2304), (2366, 2372)]},\n",
              " {'title': 'Adverse event',\n",
              "  'wikiId': 'Q11516357',\n",
              "  'characters': [(1439, 1445)]},\n",
              " {'title': 'Theft', 'wikiId': 'Q2727213', 'characters': [(1460, 1465)]},\n",
              " {'title': 'Higher education',\n",
              "  'wikiId': 'Q136822',\n",
              "  'characters': [(1467, 1472)]},\n",
              " {'title': 'Risk factor', 'wikiId': 'Q1475848', 'characters': [(1526, 1529)]},\n",
              " {'title': 'Developing country',\n",
              "  'wikiId': 'Q177323',\n",
              "  'characters': [(1534, 1543)]},\n",
              " {'title': 'Hypertension', 'wikiId': 'Q41861', 'characters': [(1545, 1556)]},\n",
              " {'title': 'Elevated railway',\n",
              "  'wikiId': 'Q1601555',\n",
              "  'characters': [(1559, 1566)]},\n",
              " {'title': 'Frequency', 'wikiId': 'Q11652', 'characters': [(1568, 1576)]},\n",
              " {'title': 'Asthma', 'wikiId': 'Q35869', 'characters': [(1581, 1586)]},\n",
              " {'title': 'Reproduction',\n",
              "  'wikiId': 'Q11990',\n",
              "  'characters': [(1610, 1621), (1652, 1660)]},\n",
              " {'title': 'Reproductive system disease',\n",
              "  'wikiId': 'Q7314317',\n",
              "  'characters': [(1610, 1631)]},\n",
              " {'title': 'Observation', 'wikiId': 'Q193181', 'characters': [(1636, 1643)]},\n",
              " {'title': 'Pregnancy',\n",
              "  'wikiId': 'Q11995',\n",
              "  'characters': [(1712, 1720), (1890, 1898), (2103, 2111)]},\n",
              " {'title': 'Truth', 'wikiId': 'Q7949', 'characters': [(1759, 1762)]},\n",
              " {'title': 'Etiology',\n",
              "  'wikiId': 'Q156318',\n",
              "  'characters': [(1764, 1768), (2345, 2349)]},\n",
              " {'title': 'Rechargeable alkaline battery',\n",
              "  'wikiId': 'Q10777239',\n",
              "  'characters': [(1799, 1802)]},\n",
              " {'title': 'English grammar',\n",
              "  'wikiId': 'Q560583',\n",
              "  'characters': [(1825, 1829), (1825, 1832)]},\n",
              " {'title': 'North Germanic languages',\n",
              "  'wikiId': 'Q106085',\n",
              "  'characters': [(1863, 1869)]},\n",
              " {'title': 'Autism spectrum',\n",
              "  'wikiId': 'Q1436063',\n",
              "  'characters': [(1904, 1909), (1904, 1918), (1904, 1927)]},\n",
              " {'title': 'Visible spectrum',\n",
              "  'wikiId': 'Q76299',\n",
              "  'characters': [(1911, 1918)]},\n",
              " {'title': 'Spectrum disorder',\n",
              "  'wikiId': 'Q7575316',\n",
              "  'characters': [(1911, 1927)]},\n",
              " {'title': 'Attention deficit hyperactivity disorder',\n",
              "  'wikiId': 'Q181923',\n",
              "  'characters': [(1933, 1941),\n",
              "   (1933, 1949),\n",
              "   (1933, 1972),\n",
              "   (1951, 1963),\n",
              "   (1951, 1972)]},\n",
              " {'title': 'Balance of trade',\n",
              "  'wikiId': 'Q192796',\n",
              "  'characters': [(1943, 1949)]},\n",
              " {'title': 'While loop', 'wikiId': 'Q838101', 'characters': [(1975, 1979)]},\n",
              " {'title': 'Creativity', 'wikiId': 'Q170658', 'characters': [(1981, 1986)]},\n",
              " {'title': 'Clearance (pharmacology)',\n",
              "  'wikiId': 'Q1163287',\n",
              "  'characters': [(1988, 1992)]},\n",
              " {'title': 'Mandatory labelling',\n",
              "  'wikiId': 'Q5482003',\n",
              "  'characters': [(2014, 2021)]},\n",
              " {'title': 'Boundary delimitation',\n",
              "  'wikiId': 'Q4157074',\n",
              "  'characters': [(2026, 2034)]},\n",
              " {'title': 'Chain', 'wikiId': 'Q2397485', 'characters': [(2047, 2050)]},\n",
              " {'title': 'Climate change mitigation',\n",
              "  'wikiId': 'Q898653',\n",
              "  'characters': [(2086, 2090)]},\n",
              " {'title': 'Maximum life span',\n",
              "  'wikiId': 'Q13419831',\n",
              "  'characters': [(2191, 2197)]},\n",
              " {'title': 'Newspaper', 'wikiId': 'Q11032', 'characters': [(2199, 2203)]},\n",
              " {'title': 'Adult', 'wikiId': 'Q80994', 'characters': [(2217, 2221)]},\n",
              " {'title': 'KNXV-TV', 'wikiId': 'Q6334700', 'characters': [(2226, 2230)]},\n",
              " {'title': 'Gram', 'wikiId': 'Q41803', 'characters': [(2240, 2244)]},\n",
              " {'title': 'Lead', 'wikiId': 'Q708', 'characters': [(2264, 2267)]},\n",
              " {'title': 'Toxicity', 'wikiId': 'Q274160', 'characters': [(2272, 2279)]},\n",
              " {'title': 'Toxin', 'wikiId': 'Q184651', 'characters': [(2319, 2327)]},\n",
              " {'title': 'Śrāvaka', 'wikiId': 'Q2712809', 'characters': [(2336, 2343)]},\n",
              " {'title': 'Western world',\n",
              "  'wikiId': 'Q160381',\n",
              "  'characters': [(2377, 2387), (2377, 2393), (2381, 2393)]},\n",
              " {'title': 'Earth', 'wikiId': 'Q2', 'characters': [(2389, 2393)]},\n",
              " {'title': 'Accounting', 'wikiId': 'Q4116214', 'characters': [(2400, 2407)]},\n",
              " {'title': 'Most (Unix)',\n",
              "  'wikiId': 'Q6916728',\n",
              "  'characters': [(2413, 2416), (2565, 2568), (2859, 2862)]},\n",
              " {'title': 'Drug overdose',\n",
              "  'wikiId': 'Q3505252',\n",
              "  'characters': [(2418, 2431), (2423, 2431)]},\n",
              " {'title': 'United States',\n",
              "  'wikiId': 'Q30',\n",
              "  'characters': [(2436, 2452),\n",
              "   (2440, 2452),\n",
              "   (2622, 2638),\n",
              "   (2626, 2638),\n",
              "   (2898, 2914),\n",
              "   (2902, 2914)]},\n",
              " {'title': 'United Kingdom',\n",
              "  'wikiId': 'Q145',\n",
              "  'characters': [(2455, 2472), (2459, 2472)]},\n",
              " {'title': 'Australia', 'wikiId': 'Q408', 'characters': [(2475, 2483)]},\n",
              " {'title': 'Chemical synthesis',\n",
              "  'wikiId': 'Q273499',\n",
              "  'characters': [(2524, 2527)]},\n",
              " {'title': 'English cricket team in Australia and New Zealand in 1876–77',\n",
              "  'wikiId': 'Q5378450',\n",
              "  'characters': [(2529, 2535)]},\n",
              " {'title': 'UEFA coefficient',\n",
              "  'wikiId': 'Q491781',\n",
              "  'characters': [(2561, 2568)]},\n",
              " {'title': 'Common name',\n",
              "  'wikiId': 'Q502895',\n",
              "  'characters': [(2570, 2577), (2864, 2871)]},\n",
              " {'title': 'Europe', 'wikiId': 'Q46', 'characters': [(2644, 2649)]},\n",
              " {'title': 'World Health Organization',\n",
              "  'wikiId': 'Q7817',\n",
              "  'characters': [(2665, 2691), (2671, 2691)]},\n",
              " {'title': 'WHO Model List of Essential Medicines',\n",
              "  'wikiId': 'Q37155',\n",
              "  'characters': [(2665, 2719), (2693, 2719)]},\n",
              " {'title': 'United Nations', 'wikiId': 'Q1065', 'characters': [(2678, 2691)]},\n",
              " {'title': 'Castle Communications',\n",
              "  'wikiId': 'Q603117',\n",
              "  'characters': [(2701, 2709)]},\n",
              " {'title': 'Essential medicines',\n",
              "  'wikiId': 'Q35456',\n",
              "  'characters': [(2701, 2719)]},\n",
              " {'title': 'Availability', 'wikiId': 'Q384871', 'characters': [(2737, 2745)]},\n",
              " {'title': 'Generic drug',\n",
              "  'wikiId': 'Q506319',\n",
              "  'characters': [(2752, 2758), (2752, 2769)]},\n",
              " {'title': 'Portuguese succession crisis of 1580',\n",
              "  'wikiId': 'Q2332476',\n",
              "  'characters': [(2819, 2830)]},\n",
              " {'title': '2018–19 Manchester City F.C. season',\n",
              "  'wikiId': 'Q54087391',\n",
              "  'characters': [(2833, 2839)]},\n",
              " {'title': '145th New York State Legislature',\n",
              "  'wikiId': 'Q17000827',\n",
              "  'characters': [(2853, 2857)]},\n",
              " {'title': 'Medical prescription',\n",
              "  'wikiId': 'Q3355478',\n",
              "  'characters': [(2873, 2893)]},\n",
              " {'title': '613 commandments',\n",
              "  'wikiId': 'Q1637842',\n",
              "  'characters': [(2922, 2925)]},\n",
              " {'title': 'Gaon Music Chart',\n",
              "  'wikiId': 'Q482527',\n",
              "  'characters': [(2934, 2940)]}]"
            ]
          },
          "metadata": {},
          "execution_count": 23
        }
      ]
    },
    {
      "cell_type": "code",
      "source": [
        "import itertools"
      ],
      "metadata": {
        "id": "gSj2f5sbiUeB"
      },
      "execution_count": null,
      "outputs": []
    },
    {
      "cell_type": "code",
      "source": [
        "!git clone https://github.com/thunlp/OpenNRE.git"
      ],
      "metadata": {
        "colab": {
          "base_uri": "https://localhost:8080/"
        },
        "id": "NJzghJFOWDFr",
        "outputId": "e8078d0f-e3d1-40df-8a33-d612ce0b1253"
      },
      "execution_count": null,
      "outputs": [
        {
          "output_type": "stream",
          "name": "stdout",
          "text": [
            "Cloning into 'OpenNRE'...\n",
            "remote: Enumerating objects: 1518, done.\u001b[K\n",
            "remote: Counting objects: 100% (141/141), done.\u001b[K\n",
            "remote: Compressing objects: 100% (70/70), done.\u001b[K\n",
            "remote: Total 1518 (delta 82), reused 105 (delta 71), pack-reused 1377\u001b[K\n",
            "Receiving objects: 100% (1518/1518), 266.83 MiB | 45.24 MiB/s, done.\n",
            "Resolving deltas: 100% (903/903), done.\n"
          ]
        }
      ]
    },
    {
      "cell_type": "code",
      "source": [
        "!pip install opennre"
      ],
      "metadata": {
        "colab": {
          "base_uri": "https://localhost:8080/"
        },
        "id": "hbrw5rgDz4lD",
        "outputId": "bd9a85a4-4bd7-482c-8cb7-c25d3115b420"
      },
      "execution_count": null,
      "outputs": [
        {
          "output_type": "stream",
          "name": "stdout",
          "text": [
            "Looking in indexes: https://pypi.org/simple, https://us-python.pkg.dev/colab-wheels/public/simple/\n",
            "\u001b[31mERROR: Could not find a version that satisfies the requirement opennre (from versions: none)\u001b[0m\n",
            "\u001b[31mERROR: No matching distribution found for opennre\u001b[0m\n"
          ]
        }
      ]
    },
    {
      "cell_type": "code",
      "source": [
        "!python setup.py install "
      ],
      "metadata": {
        "colab": {
          "base_uri": "https://localhost:8080/"
        },
        "id": "vWI2i4k-WhKc",
        "outputId": "cd2cc634-df99-434f-f02f-b1e92751b02d"
      },
      "execution_count": null,
      "outputs": [
        {
          "output_type": "stream",
          "name": "stdout",
          "text": [
            "python3: can't open file 'setup.py': [Errno 2] No such file or directory\n"
          ]
        }
      ]
    },
    {
      "cell_type": "code",
      "source": [
        "import opennre as O"
      ],
      "metadata": {
        "id": "hTy8szQjWv48",
        "colab": {
          "base_uri": "https://localhost:8080/",
          "height": 305
        },
        "outputId": "401f944f-668c-4059-cad8-b200e1d08f31"
      },
      "execution_count": null,
      "outputs": [
        {
          "output_type": "error",
          "ename": "ModuleNotFoundError",
          "evalue": "ignored",
          "traceback": [
            "\u001b[0;31m---------------------------------------------------------------------------\u001b[0m",
            "\u001b[0;31mModuleNotFoundError\u001b[0m                       Traceback (most recent call last)",
            "\u001b[0;32m<ipython-input-29-c860f6e28b10>\u001b[0m in \u001b[0;36m<module>\u001b[0;34m\u001b[0m\n\u001b[0;32m----> 1\u001b[0;31m \u001b[0;32mimport\u001b[0m \u001b[0mopennre\u001b[0m \u001b[0;32mas\u001b[0m \u001b[0mO\u001b[0m\u001b[0;34m\u001b[0m\u001b[0;34m\u001b[0m\u001b[0m\n\u001b[0m",
            "\u001b[0;31mModuleNotFoundError\u001b[0m: No module named 'opennre'",
            "",
            "\u001b[0;31m---------------------------------------------------------------------------\u001b[0;32m\nNOTE: If your import is failing due to a missing package, you can\nmanually install dependencies using either !pip or !apt.\n\nTo view examples of installing some common dependencies, click the\n\"Open Examples\" button below.\n\u001b[0;31m---------------------------------------------------------------------------\u001b[0m\n"
          ],
          "errorDetails": {
            "actions": [
              {
                "action": "open_url",
                "actionText": "Open Examples",
                "url": "/notebooks/snippets/importing_libraries.ipynb"
              }
            ]
          }
        }
      ]
    },
    {
      "cell_type": "code",
      "source": [
        "links = wikilink(filtered_text,threshold=1)\n",
        "model = O.get_model('wiki80_cnn_softmax')\n",
        "# Iterate over every permutation pair of entities\n",
        "for permutation in itertools.permutations(links, 2):\n",
        "  for source in permutation[0]['characters']:\n",
        "        for target in permutation[1]['characters']:\n",
        "            # Relationship extraction with OpenNRE\n",
        "            data = model.infer(\n",
        "                {'h': {'pos': [source[0], source[1] + 1]}, 't': {'pos': [target[0], target[1] + 1]}})"
      ],
      "metadata": {
        "id": "JkubjeazftNV",
        "colab": {
          "base_uri": "https://localhost:8080/",
          "height": 235
        },
        "outputId": "de0cbcbb-32a7-4acf-bcb6-8494677687a6"
      },
      "execution_count": null,
      "outputs": [
        {
          "output_type": "error",
          "ename": "AttributeError",
          "evalue": "ignored",
          "traceback": [
            "\u001b[0;31m---------------------------------------------------------------------------\u001b[0m",
            "\u001b[0;31mAttributeError\u001b[0m                            Traceback (most recent call last)",
            "\u001b[0;32m<ipython-input-27-437e7b343a4d>\u001b[0m in \u001b[0;36m<module>\u001b[0;34m\u001b[0m\n\u001b[1;32m      1\u001b[0m \u001b[0mlinks\u001b[0m \u001b[0;34m=\u001b[0m \u001b[0mwikilink\u001b[0m\u001b[0;34m(\u001b[0m\u001b[0mfiltered_text\u001b[0m\u001b[0;34m,\u001b[0m\u001b[0mthreshold\u001b[0m\u001b[0;34m=\u001b[0m\u001b[0;36m1\u001b[0m\u001b[0;34m)\u001b[0m\u001b[0;34m\u001b[0m\u001b[0;34m\u001b[0m\u001b[0m\n\u001b[0;32m----> 2\u001b[0;31m \u001b[0mmodel\u001b[0m \u001b[0;34m=\u001b[0m \u001b[0mO\u001b[0m\u001b[0;34m.\u001b[0m\u001b[0mget_model\u001b[0m\u001b[0;34m(\u001b[0m\u001b[0;34m'wiki80_cnn_softmax'\u001b[0m\u001b[0;34m)\u001b[0m\u001b[0;34m\u001b[0m\u001b[0;34m\u001b[0m\u001b[0m\n\u001b[0m\u001b[1;32m      3\u001b[0m \u001b[0;31m# Iterate over every permutation pair of entities\u001b[0m\u001b[0;34m\u001b[0m\u001b[0;34m\u001b[0m\u001b[0;34m\u001b[0m\u001b[0m\n\u001b[1;32m      4\u001b[0m \u001b[0;32mfor\u001b[0m \u001b[0mpermutation\u001b[0m \u001b[0;32min\u001b[0m \u001b[0mitertools\u001b[0m\u001b[0;34m.\u001b[0m\u001b[0mpermutations\u001b[0m\u001b[0;34m(\u001b[0m\u001b[0mlinks\u001b[0m\u001b[0;34m,\u001b[0m \u001b[0;36m2\u001b[0m\u001b[0;34m)\u001b[0m\u001b[0;34m:\u001b[0m\u001b[0;34m\u001b[0m\u001b[0;34m\u001b[0m\u001b[0m\n\u001b[1;32m      5\u001b[0m   \u001b[0;32mfor\u001b[0m \u001b[0msource\u001b[0m \u001b[0;32min\u001b[0m \u001b[0mpermutation\u001b[0m\u001b[0;34m[\u001b[0m\u001b[0;36m0\u001b[0m\u001b[0;34m]\u001b[0m\u001b[0;34m[\u001b[0m\u001b[0;34m'characters'\u001b[0m\u001b[0;34m]\u001b[0m\u001b[0;34m:\u001b[0m\u001b[0;34m\u001b[0m\u001b[0;34m\u001b[0m\u001b[0m\n",
            "\u001b[0;31mAttributeError\u001b[0m: module 'OpenNRE' has no attribute 'get_model'"
          ]
        }
      ]
    }
  ]
}